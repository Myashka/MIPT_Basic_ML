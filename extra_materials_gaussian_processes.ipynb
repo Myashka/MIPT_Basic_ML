{
 "cells": [
  {
   "cell_type": "code",
   "execution_count": 3,
   "id": "rapid-pressure",
   "metadata": {},
   "outputs": [
    {
     "ename": "ModuleNotFoundError",
     "evalue": "No module named 'utils'",
     "output_type": "error",
     "traceback": [
      "\u001b[1;31m---------------------------------------------------------------------------\u001b[0m",
      "\u001b[1;31mModuleNotFoundError\u001b[0m                       Traceback (most recent call last)",
      "\u001b[1;32m<ipython-input-3-84673d33ee66>\u001b[0m in \u001b[0;36m<module>\u001b[1;34m\u001b[0m\n\u001b[0;32m      5\u001b[0m \u001b[1;32mfrom\u001b[0m \u001b[0mgpytorch\u001b[0m \u001b[1;32mimport\u001b[0m \u001b[0mkernels\u001b[0m\u001b[1;33m\u001b[0m\u001b[1;33m\u001b[0m\u001b[0m\n\u001b[0;32m      6\u001b[0m \u001b[1;33m\u001b[0m\u001b[0m\n\u001b[1;32m----> 7\u001b[1;33m \u001b[1;32mimport\u001b[0m \u001b[0mutils\u001b[0m\u001b[1;33m\u001b[0m\u001b[1;33m\u001b[0m\u001b[0m\n\u001b[0m\u001b[0;32m      8\u001b[0m \u001b[1;32mimport\u001b[0m \u001b[0mtqdm\u001b[0m\u001b[1;33m\u001b[0m\u001b[1;33m\u001b[0m\u001b[0m\n",
      "\u001b[1;31mModuleNotFoundError\u001b[0m: No module named 'utils'"
     ]
    }
   ],
   "source": [
    "import torch\n",
    "import numpy as np\n",
    "import matplotlib.pyplot as plt\n",
    "import gpytorch\n",
    "from gpytorch import kernels\n",
    "\n",
    "import utils\n",
    "import tqdm"
   ]
  },
  {
   "cell_type": "markdown",
   "id": "blind-restaurant",
   "metadata": {},
   "source": [
    "# Building GPR model\n",
    "Let's fit GPR model for function $f(x)=-cos({\\pi}x)+sin(4{\\pi}x)$ in [0, 1], with noise $y(x)=f(x)+{\\varepsilon}, {\\varepsilon} ~ {\\mathcal{N}}(0, 0.1)$"
   ]
  },
  {
   "cell_type": "code",
   "execution_count": 4,
   "id": "waiting-black",
   "metadata": {},
   "outputs": [
    {
     "data": {
      "text/plain": [
       "[<matplotlib.lines.Line2D at 0x2400c9ecf40>]"
      ]
     },
     "execution_count": 4,
     "metadata": {},
     "output_type": "execute_result"
    },
    {
     "data": {
      "image/png": "[encoded data removed]",
      "text/plain": [
       "<Figure size 576x432 with 1 Axes>"
      ]
     },
     "metadata": {
      "needs_background": "light"
     },
     "output_type": "display_data"
    }
   ],
   "source": [
    "N = 10\n",
    "X = torch.linspace(0.05, 0.95, N)\n",
    "y = -torch.cos(np.pi * X) + np.sin(4 * np.pi * X) + torch.randn(N) * 0.1\n",
    "\n",
    "plt.figure(figsize=(8, 6))\n",
    "plt.plot(X.numpy(), y.numpy(), 'o')"
   ]
  },
  {
   "cell_type": "markdown",
   "id": "addressed-wages",
   "metadata": {},
   "source": [
    "## 1. Define covariance function"
   ]
  },
  {
   "cell_type": "code",
   "execution_count": 5,
   "id": "heavy-lemon",
   "metadata": {},
   "outputs": [],
   "source": [
    "kernel = kernels.ScaleKernel(kernels.RBFKernel())  # RBF ядро умноженное на константу"
   ]
  },
  {
   "cell_type": "markdown",
   "id": "smaller-split",
   "metadata": {},
   "source": [
    "For most GP regression models, you will need to construct the following GPyTroch objects:\n",
    "1. A GP Model (gpytorch.models.ExactGP) - most of the inference.\n",
    "2. A Likelihood (gpythorch.likelihoods.GaussianLikelihood) - LH for GR regression\n",
    "3. A Mean (gpytorch.means.ConstantMean())\n",
    "4. A Kernel\n",
    "5. A MultivariateNormal"
   ]
  },
  {
   "cell_type": "code",
   "execution_count": 6,
   "id": "hundred-russia",
   "metadata": {},
   "outputs": [],
   "source": [
    "# We will use the simplest form of GP model, exact inference\n",
    "class GPRegressor(gpytorch.models.ExactGP):\n",
    "    def __init__(self, X, y, kernel, likelihood=None):\n",
    "        if likelihood is None:\n",
    "            likelihood = gpytorch.likelihoods.GaussianLikelihood()\n",
    "        \n",
    "        super().__init__(X, y, likelihood)\n",
    "        self.mean = gpytorch.means.ConstantMean()\n",
    "        self.kernel = kernel\n",
    "        self.likelihood = likelihood\n",
    "        \n",
    "    def forward(self, x):\n",
    "        mean_x = self.mean(x)\n",
    "        covar_x = self.kernel(x)\n",
    "        return gpytorch.distributions.MultitaskMultivariateNormal(mean_x, covar_x)\n",
    "    \n",
    "    def predict(self, X):\n",
    "        self.eval()\n",
    "        with torch.no_grad():\n",
    "            pred = self(X)\n",
    "            return self.likelihood(pred)"
   ]
  },
  {
   "cell_type": "code",
   "execution_count": null,
   "id": "settled-bridges",
   "metadata": {},
   "outputs": [],
   "source": [
    "model = GPRegressor(X, y, kernel)\n"
   ]
  }
 ],
 "metadata": {
  "kernelspec": {
   "display_name": "Python 3",
   "language": "python",
   "name": "python3"
  },
  "language_info": {
   "codemirror_mode": {
    "name": "ipython",
    "version": 3
   },
   "file_extension": ".py",
   "mimetype": "text/x-python",
   "name": "python",
   "nbconvert_exporter": "python",
   "pygments_lexer": "ipython3",
   "version": "3.8.5"
  }
 },
 "nbformat": 4,
 "nbformat_minor": 5
}
