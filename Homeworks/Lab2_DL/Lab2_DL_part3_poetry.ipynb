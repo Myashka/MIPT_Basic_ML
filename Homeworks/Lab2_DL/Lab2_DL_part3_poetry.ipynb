{
 "cells": [
  {
   "cell_type": "markdown",
   "metadata": {},
   "source": [
    "## Lab 2"
   ]
  },
  {
   "cell_type": "markdown",
   "metadata": {},
   "source": [
    "### Part 3. Poetry generation\n",
    "\n",
    "Let's try to generate some poetry using RNNs. \n",
    "\n",
    "You have several choices here: \n",
    "\n",
    "* The Shakespeare sonnets, file `sonnets.txt` available in the notebook directory.\n",
    "\n",
    "* Роман в стихах \"Евгений Онегин\" Александра Сергеевича Пушкина. В предобработанном виде доступен по [ссылке](https://github.com/attatrol/data_sources/blob/master/onegin.txt).\n",
    "\n",
    "* Some other text source, if it will be approved by the course staff.\n",
    "\n",
    "Text generation can be designed in several steps:\n",
    "    \n",
    "1. Data loading.\n",
    "2. Dictionary generation.\n",
    "3. Data preprocessing.\n",
    "4. Model (neural network) training.\n",
    "5. Text generation (model evaluation).\n"
   ]
  },
  {
   "cell_type": "code",
   "execution_count": 1,
   "metadata": {},
   "outputs": [],
   "source": [
    "import string\n",
    "import os\n",
    "import torch\n",
    "import numpy as np\n",
    "import matplotlib.pyplot as plt"
   ]
  },
  {
   "cell_type": "code",
   "execution_count": 2,
   "metadata": {},
   "outputs": [],
   "source": [
    "device = torch.device('cuda' if torch.cuda.is_available() else 'cpu')"
   ]
  },
  {
   "cell_type": "markdown",
   "metadata": {},
   "source": [
    "### Data loading: Shakespeare"
   ]
  },
  {
   "cell_type": "markdown",
   "metadata": {},
   "source": [
    "Shakespeare sonnets are awailable at this [link](http://www.gutenberg.org/ebooks/1041?msg=welcome_stranger). In addition, they are stored in the same directory as this notebook (`sonnetes.txt`). Simple preprocessing is already done for you in the next cell: all technical info is dropped."
   ]
  },
  {
   "cell_type": "code",
   "execution_count": 7,
   "metadata": {},
   "outputs": [],
   "source": [
    "if not os.path.exists('sonnets.txt'):\n",
    "    !wget https://raw.githubusercontent.com/girafe-ai/ml-mipt/master/homeworks_basic/Lab2_DL/sonnets.txt\n",
    "\n",
    "with open('sonnets.txt', 'r') as iofile:\n",
    "    text = iofile.readlines()\n",
    "    \n",
    "TEXT_START = 45\n",
    "TEXT_END = -368\n",
    "text = text[TEXT_START : TEXT_END]\n",
    "assert len(text) == 2616"
   ]
  },
  {
   "cell_type": "markdown",
   "metadata": {},
   "source": [
    "In opposite to the in-class practice, this time we want to predict complex text. Let's reduce the complexity of the task and lowercase all the symbols.\n",
    "\n",
    "Now variable `text` is a list of strings. Join all the strings into one and lowercase it."
   ]
  },
  {
   "cell_type": "code",
   "execution_count": 8,
   "metadata": {},
   "outputs": [
    {
     "name": "stdout",
     "output_type": "stream",
     "text": [
      "OK!\n"
     ]
    }
   ],
   "source": [
    "# Join all the strings into one and lowercase it\n",
    "# Put result into variable text.\n",
    "\n",
    "# Your great code here\n",
    "text = [line.lower() for line in text]\n",
    "text = ''.join(text)\n",
    "\n",
    "assert len(text) == 100225, 'Are you sure you have concatenated all the strings?'\n",
    "assert not any([x in set(text) for x in string.ascii_uppercase]), 'Uppercase letters are present'\n",
    "print('OK!')"
   ]
  },
  {
   "cell_type": "code",
   "execution_count": 6,
   "metadata": {},
   "outputs": [],
   "source": [
    "if not os.path.exists('onegin.txt'):\n",
    "    !wget --no-check-certificate https://raw.githubusercontent.com/attatrol/data_sources/master/onegin.txt\n",
    "    \n",
    "with open('onegin.txt', 'r', encoding='utf-8') as iofile:\n",
    "    text = iofile.readlines()\n",
    "        \n",
    "text = [x.replace('\\t\\t', '') for x in text]"
   ]
  },
  {
   "cell_type": "code",
   "execution_count": 9,
   "metadata": {},
   "outputs": [
    {
     "data": {
      "text/plain": [
       "100225"
      ]
     },
     "execution_count": 9,
     "metadata": {},
     "output_type": "execute_result"
    }
   ],
   "source": [
    "len(text)"
   ]
  },
  {
   "cell_type": "markdown",
   "metadata": {},
   "source": [
    "In opposite to the in-class practice, this time we want to predict complex text. Let's reduce the complexity of the task and lowercase all the symbols.\n",
    "\n",
    "Now variable `text` is a list of strings. Join all the strings into one and lowercase it."
   ]
  },
  {
   "cell_type": "code",
   "execution_count": 10,
   "metadata": {},
   "outputs": [],
   "source": [
    "# Join all the strings into one and lowercase it\n",
    "# Put result into variable text.\n",
    "\n",
    "# Your great code here\n",
    "text = [line.lower() for line in text]\n",
    "text = ''.join(text)"
   ]
  },
  {
   "cell_type": "code",
   "execution_count": 11,
   "metadata": {},
   "outputs": [
    {
     "data": {
      "text/plain": [
       "' '"
      ]
     },
     "execution_count": 11,
     "metadata": {},
     "output_type": "execute_result"
    }
   ],
   "source": [
    "text[0]"
   ]
  },
  {
   "cell_type": "markdown",
   "metadata": {},
   "source": [
    "Put all the characters, that you've seen in the text, into variable `tokens`."
   ]
  },
  {
   "cell_type": "code",
   "execution_count": 12,
   "metadata": {},
   "outputs": [
    {
     "name": "stdout",
     "output_type": "stream",
     "text": [
      "['\\n', ' ', '!', \"'\", '(', ')', ',', '-', '.', ':', ';', '?', 'a', 'b', 'c', 'd', 'e', 'f', 'g', 'h', 'i', 'j', 'k', 'l', 'm', 'n', 'o', 'p', 'q', 'r', 's', 't', 'u', 'v', 'w', 'x', 'y', 'z']\n"
     ]
    }
   ],
   "source": [
    "tokens = sorted(set(text))\n",
    "print(tokens)"
   ]
  },
  {
   "cell_type": "code",
   "execution_count": 13,
   "metadata": {},
   "outputs": [],
   "source": [
    "import re\n",
    "parts = re.split('\\n\\n\\s*[a-z]*\\n\\n', text)"
   ]
  },
  {
   "cell_type": "code",
   "execution_count": 14,
   "metadata": {},
   "outputs": [
    {
     "data": {
      "text/plain": [
       "\"  from fairest creatures we desire increase,\\n  that thereby beauty's rose might never die,\\n  but as the riper should by time decease,\\n  his tender heir might bear his memory:\\n  but thou, contracted to thine own bright eyes,\\n  feed'st thy light's flame with self-substantial fuel,\\n  making a famine where abundance lies,\\n  thy self thy foe, to thy sweet self too cruel:\\n  thou that art now the world's fresh ornament,\\n  and only herald to the gaudy spring,\\n  within thine own bud buriest thy content,\\n  and tender churl mak'st waste in niggarding:\\n    pity the world, or else this glutton be,\\n    to eat the world's due, by the grave and thee.\""
      ]
     },
     "execution_count": 14,
     "metadata": {},
     "output_type": "execute_result"
    }
   ],
   "source": [
    "parts[0]"
   ]
  },
  {
   "cell_type": "code",
   "execution_count": 15,
   "metadata": {},
   "outputs": [
    {
     "name": "stdout",
     "output_type": "stream",
     "text": [
      "154\n"
     ]
    }
   ],
   "source": [
    "print(len(parts))"
   ]
  },
  {
   "cell_type": "code",
   "execution_count": 16,
   "metadata": {},
   "outputs": [
    {
     "name": "stdout",
     "output_type": "stream",
     "text": [
      "max length = 708\n"
     ]
    },
    {
     "data": {
      "image/png": "[encoded data removed]",
      "text/plain": [
       "<Figure size 432x288 with 1 Axes>"
      ]
     },
     "metadata": {
      "needs_background": "light"
     },
     "output_type": "display_data"
    }
   ],
   "source": [
    "MAX_LENGTH = max(map(len, parts))\n",
    "print(\"max length =\", MAX_LENGTH)\n",
    "\n",
    "plt.title(\"Sequence lenght distribution\")\n",
    "plt.hist(list(map(len, parts)), bins=40);"
   ]
  },
  {
   "cell_type": "code",
   "execution_count": 17,
   "metadata": {},
   "outputs": [],
   "source": [
    "tmp = []\n",
    "for i in range(0, len(parts)):\n",
    "    if len(parts[i]) > 590:\n",
    "        tmp.append(parts[i])\n",
    "\n",
    "parts = tmp  "
   ]
  },
  {
   "cell_type": "markdown",
   "metadata": {},
   "source": [
    "Create dictionary `token_to_idx = {<char>: <index>}` and dictionary `idx_to_token = {<index>: <char>}`"
   ]
  },
  {
   "cell_type": "code",
   "execution_count": 18,
   "metadata": {},
   "outputs": [],
   "source": [
    "# dict <index>:<char>\n",
    "# Your great code here\n",
    "token_to_id = {char: index for index, char in enumerate(tokens)}\n",
    "# dict <char>:<index>\n",
    "# Your great code here\n",
    "id_to_token = {index: char for index, char in enumerate(tokens)}\n",
    "num_tokens = len(tokens)"
   ]
  },
  {
   "cell_type": "code",
   "execution_count": 19,
   "metadata": {},
   "outputs": [
    {
     "data": {
      "text/plain": [
       "1"
      ]
     },
     "execution_count": 19,
     "metadata": {},
     "output_type": "execute_result"
    }
   ],
   "source": [
    "token_to_id[' ']"
   ]
  },
  {
   "cell_type": "markdown",
   "metadata": {},
   "source": [
    "*Comment: in this task we have only 38 different tokens, so let's use one-hot encoding.*"
   ]
  },
  {
   "cell_type": "code",
   "execution_count": 20,
   "metadata": {},
   "outputs": [],
   "source": [
    "def to_matrix(parts, max_len=None, pad=token_to_id[' '], dtype='int32', batch_first = True):\n",
    "    \n",
    "    max_len = max_len or max(map(len, parts))\n",
    "    parts_ix = np.zeros([len(parts), max_len], dtype) + pad\n",
    "    \n",
    "    for i in range(len(parts)):\n",
    "        line_ix = [token_to_id[c] for c in parts[i]]  # строка - часть\n",
    "        parts_ix[i, :len(line_ix)] = line_ix  # вставка в матрицу\n",
    "        \n",
    "    if not batch_first:  # convert [batch, time] into [time, batch]\n",
    "        parts_ix = np.transpose(names_ix)\n",
    "    \n",
    "    return parts_ix"
   ]
  },
  {
   "cell_type": "code",
   "execution_count": 21,
   "metadata": {},
   "outputs": [
    {
     "name": "stdout",
     "output_type": "stream",
     "text": [
      "[[ 1  1 17 ...  1  1  1]\n",
      " [ 1  1 34 ... 23 15  8]\n",
      " [ 1  1 23 ...  1  1  1]\n",
      " [ 1  1 32 ...  1  1  1]\n",
      " [ 1  1 31 ...  1  1  1]] (5, 660)\n"
     ]
    }
   ],
   "source": [
    "batch = to_matrix(parts[:5])\n",
    "print(batch, batch.shape)"
   ]
  },
  {
   "cell_type": "code",
   "execution_count": 22,
   "metadata": {},
   "outputs": [
    {
     "data": {
      "text/plain": [
       "(37, 0)"
      ]
     },
     "execution_count": 22,
     "metadata": {},
     "output_type": "execute_result"
    }
   ],
   "source": [
    "batch.max(), batch.min()  # because 38 tokens in total"
   ]
  },
  {
   "cell_type": "markdown",
   "metadata": {},
   "source": [
    "### Building the model"
   ]
  },
  {
   "cell_type": "markdown",
   "metadata": {},
   "source": [
    "Now we want to build and train recurrent neural net which would be able to something similar to Shakespeare's poetry.\n",
    "\n",
    "Let's use vanilla RNN, similar to the one created during the lesson."
   ]
  },
  {
   "cell_type": "code",
   "execution_count": 3,
   "metadata": {},
   "outputs": [],
   "source": [
    "import numpy as np\n",
    "import torch\n",
    "import torch, torch.nn as nn\n",
    "import torch.nn.functional as F\n",
    "from torchsummary import summary"
   ]
  },
  {
   "cell_type": "code",
   "execution_count": 23,
   "metadata": {},
   "outputs": [],
   "source": [
    "# Your code here\n",
    "class CharRNNСell(nn.Module):\n",
    "    \"\"\"Implementation of vanila RNN cell\"\"\"\n",
    "    def __init__(self, num_tokens=len(tokens), embedding_size=128, rnn_num_units=256):\n",
    "        super(self.__class__, self).__init__()\n",
    "        self.num_units = rnn_num_units\n",
    "        \n",
    "        self.embedding = nn.Embedding(num_tokens, embedding_size)\n",
    "        self.rnn_update = nn.Linear(embedding_size + rnn_num_units, rnn_num_units)\n",
    "        self.rnn_to_logits = nn.Linear(rnn_num_units, num_tokens)\n",
    "    \n",
    "    def forward(self, x, h_prev):\n",
    "        x_emb = self.embedding(x)\n",
    "        \n",
    "        x_and_h = torch.cat([x_emb, h_prev], dim=1)\n",
    "        h_next = self.rnn_update(x_and_h)\n",
    "        \n",
    "        h_next = torch.tanh(h_next)\n",
    "        \n",
    "        logits = self.rnn_to_logits(h_next)\n",
    "        \n",
    "        return F.log_softmax(logits, -1), h_next\n",
    "    \n",
    "    def initial_state(self, batch_size):\n",
    "        return torch.zeros(batch_size, self.num_units, requires_grad=True)"
   ]
  },
  {
   "cell_type": "markdown",
   "metadata": {},
   "source": [
    "Plot the loss function (axis X: number of epochs, axis Y: loss function)."
   ]
  },
  {
   "cell_type": "code",
   "execution_count": 48,
   "metadata": {},
   "outputs": [],
   "source": [
    "from IPython.display import clear_output\n",
    "from random import sample\n",
    "from tqdm.auto import tqdm"
   ]
  },
  {
   "cell_type": "code",
   "execution_count": 25,
   "metadata": {},
   "outputs": [],
   "source": [
    "char_rnn = CharRNNСell()"
   ]
  },
  {
   "cell_type": "code",
   "execution_count": 26,
   "metadata": {},
   "outputs": [],
   "source": [
    "def rnn_loop(char_rnn, batch_x):\n",
    "    \"\"\"\n",
    "    Computes log P(next_character) for all time-steps in batch_ix\n",
    "    :param names_ix: an int32 matrix of shape [batch, time], output of to_matrix(names)\n",
    "    \"\"\"\n",
    "    batch_size, max_lenght = batch_x.shape\n",
    "    hid_state = char_rnn.initial_state(batch_size)\n",
    "    logprobs = []\n",
    "    \n",
    "    for x in batch_x.transpose(0, 1):  # transpose to get first char of each batch\n",
    "        logp_next, hid_state = char_rnn(x, hid_state)\n",
    "        logprobs.append(logp_next)\n",
    "        \n",
    "    return torch.stack(logprobs, dim=1)"
   ]
  },
  {
   "cell_type": "code",
   "execution_count": 27,
   "metadata": {},
   "outputs": [],
   "source": [
    "char_rnn = CharRNNСell()\n",
    "criterion = nn.NLLLoss()\n",
    "opt = torch.optim.Adam(char_rnn.parameters())\n",
    "history = []"
   ]
  },
  {
   "cell_type": "code",
   "execution_count": 186,
   "metadata": {},
   "outputs": [],
   "source": [
    "batch = to_matrix(sample(parts, 32))\n",
    "batch = torch.tensor(batch, dtype=torch.int64)\n",
    "\n",
    "logp_seq = rnn_loop(char_rnn, batch)\n",
    "\n",
    "predictions_logp = logp_seq[:, :-1]\n",
    "actual_next_tokens = batch[:, 1:]"
   ]
  },
  {
   "cell_type": "code",
   "execution_count": 188,
   "metadata": {},
   "outputs": [
    {
     "data": {
      "text/plain": [
       "torch.Size([32, 671, 38])"
      ]
     },
     "execution_count": 188,
     "metadata": {},
     "output_type": "execute_result"
    }
   ],
   "source": [
    "predictions_logp.shape"
   ]
  },
  {
   "cell_type": "code",
   "execution_count": 189,
   "metadata": {},
   "outputs": [
    {
     "data": {
      "text/plain": [
       "torch.Size([32, 671])"
      ]
     },
     "execution_count": 189,
     "metadata": {},
     "output_type": "execute_result"
    }
   ],
   "source": [
    "actual_next_tokens.shape"
   ]
  },
  {
   "cell_type": "code",
   "execution_count": 190,
   "metadata": {},
   "outputs": [
    {
     "data": {
      "text/plain": [
       "torch.Size([32, 672])"
      ]
     },
     "execution_count": 190,
     "metadata": {},
     "output_type": "execute_result"
    }
   ],
   "source": [
    "batch.shape"
   ]
  },
  {
   "cell_type": "code",
   "execution_count": 166,
   "metadata": {},
   "outputs": [
    {
     "data": {
      "image/png": "[encoded data removed]",
      "text/plain": [
       "<Figure size 432x288 with 1 Axes>"
      ]
     },
     "metadata": {
      "needs_background": "light"
     },
     "output_type": "display_data"
    }
   ],
   "source": [
    "# Your plot code here\n",
    "i_range = tqdm(range(1000))\n",
    "for i in i_range:\n",
    "    opt.zero_grad()\n",
    "    batch = to_matrix(sample(parts, 32))\n",
    "    batch = torch.tensor(batch, dtype=torch.int64)\n",
    "    \n",
    "    logp_seq = rnn_loop(char_rnn, batch)\n",
    "    \n",
    "    predictions_logp = logp_seq[:, :-1]\n",
    "    actual_next_tokens = batch[:, 1:]\n",
    "    \n",
    "    loss = criterion(predictions_logp.contiguous().view(-1, num_tokens), \n",
    "                     actual_next_tokens.contiguous().view(-1))\n",
    "    loss.backward()\n",
    "    opt.step()\n",
    "    \n",
    "    history.append(loss.data.numpy())\n",
    "    if (i+1)%100==0:\n",
    "        clear_output(True)\n",
    "        i_range.display()\n",
    "        plt.plot(history,label='loss')\n",
    "        plt.legend()\n",
    "        plt.show()"
   ]
  },
  {
   "cell_type": "code",
   "execution_count": 167,
   "metadata": {},
   "outputs": [],
   "source": [
    "assert np.mean(history[:10]) > np.mean(history[-10:]), \"RNN didn't converge.\""
   ]
  },
  {
   "cell_type": "code",
   "execution_count": 168,
   "metadata": {},
   "outputs": [
    {
     "data": {
      "text/plain": [
       "1.0790616"
      ]
     },
     "execution_count": 168,
     "metadata": {},
     "output_type": "execute_result"
    }
   ],
   "source": [
    "np.mean(history[-10:])"
   ]
  },
  {
   "cell_type": "code",
   "execution_count": 28,
   "metadata": {},
   "outputs": [],
   "source": [
    "MAX_LENGTH = 500"
   ]
  },
  {
   "cell_type": "code",
   "execution_count": 29,
   "metadata": {},
   "outputs": [],
   "source": [
    "def generate_sample(char_rnn, seed_phrase=' Hello', max_length=MAX_LENGTH, temperature=1.0):\n",
    "    '''\n",
    "    ### Disclaimer: this is an example function for text generation.\n",
    "    ### You can either adapt it in your code or create your own function\n",
    "    \n",
    "    The function generates text given a phrase of length at least SEQ_LENGTH.\n",
    "    :param seed_phrase: prefix characters. The RNN is asked to continue the phrase\n",
    "    :param max_length: maximum output length, including seed_phrase\n",
    "    :param temperature: coefficient for sampling.  higher temperature produces more chaotic outputs, \n",
    "        smaller temperature converges to the single most likely output.\n",
    "        \n",
    "    Be careful with the model output. This model waits logits (not probabilities/log-probabilities)\n",
    "    of the next symbol.\n",
    "    '''\n",
    "    \n",
    "    x_sequence = [token_to_id[token] for token in seed_phrase.lower()]\n",
    "    x_sequence = torch.tensor([x_sequence], dtype=torch.int64)\n",
    "    hid_state = char_rnn.initial_state(batch_size=1)\n",
    "    \n",
    "    #feed the seed phrase, if any\n",
    "    for i in range(len(seed_phrase) - 1):\n",
    "        #print(x_sequence[:, -1].shape, hid_state.shape)\n",
    "        _, hid_state = char_rnn(x_sequence[:, i], hid_state)\n",
    "    \n",
    "    #start generating\n",
    "    for _ in range(max_length - len(seed_phrase)):\n",
    "\n",
    "        logp_next, hid_state = char_rnn(x_sequence[:, -1], hid_state)\n",
    "        # Be really careful here with the model output\n",
    "        p_next = F.softmax(logp_next / temperature, dim=-1).data.numpy()[0]\n",
    "        \n",
    "        # sample next token and push it back into x_sequence\n",
    "\n",
    "        next_ix = np.random.choice(len(tokens), p=p_next)\n",
    "        next_ix = torch.tensor([[next_ix]], dtype=torch.int64)\n",
    "        \n",
    "        x_sequence = torch.cat([x_sequence, next_ix], dim=1)\n",
    "        \n",
    "    return ''.join([tokens[ix] for ix in x_sequence.data.numpy()[0]])"
   ]
  },
  {
   "cell_type": "code",
   "execution_count": 171,
   "metadata": {
    "scrolled": false
   },
   "outputs": [
    {
     "name": "stdout",
     "output_type": "stream",
     "text": [
      " today i short heavy such self-lend temptat that wake the fingers in my plame than farrents my strength and hope him, but flowers by thy new:\n",
      "  for that to the ear thy sun,\n",
      "  being believe all ofter i commonterss false,\n",
      "  which i day should by i am,\n",
      "  and for the praise adver's bloody the darking that powers and say the sen a brand in works be framed and mine eyes,\n",
      "  that to the sweetis and such slop's deeds,\n",
      "  to with my nature bain,\n",
      "  reserve the looked for my name thou dost the dear,\n",
      "  which \n",
      "\n",
      "\n",
      "\n",
      " today is thee should hate,\n",
      "  when in their burture that they should with power in myself do i forgets and or your spity char,\n",
      "  and mine eye, my resting my poiring;\n",
      "  and in leads shames as age my well,\n",
      "    will worms after to belosing seen\n",
      "  the guest,\n",
      "  the mappity precious brow.\n",
      "  but the music love, wherein 'tis their good and soul doth intokelling such serving time of your grace the ridech,\n",
      "  and whire thou dost for my sake the painted wido's spring;\n",
      "  will my self bright to me, or all the\n",
      "\n",
      "\n",
      "\n"
     ]
    }
   ],
   "source": [
    "for _ in range(2):\n",
    "    print(generate_sample(char_rnn, ' today', temperature=0.7))\n",
    "    print('\\n\\n')"
   ]
  },
  {
   "cell_type": "markdown",
   "metadata": {},
   "source": [
    "### More poetic model\n",
    "\n",
    "Let's use LSTM instead of vanilla RNN and compare the results."
   ]
  },
  {
   "cell_type": "markdown",
   "metadata": {},
   "source": [
    "Plot the loss function of the number of epochs. Does the final loss become better?"
   ]
  },
  {
   "cell_type": "code",
   "execution_count": 25,
   "metadata": {},
   "outputs": [],
   "source": [
    "from torch.autograd import Variable"
   ]
  },
  {
   "cell_type": "code",
   "execution_count": 26,
   "metadata": {},
   "outputs": [],
   "source": [
    "class CharRNNLoop(nn.Module):\n",
    "    def __init__(self, num_tokens=len(tokens), emb_size=64, rnn_num_units=256):\n",
    "        super(self.__class__, self).__init__()\n",
    "        self.num_units=rnn_num_units\n",
    "        \n",
    "        self.emb = nn.Embedding(num_tokens, emb_size)\n",
    "        self.rnn = nn.LSTM(emb_size, rnn_num_units, batch_first=True)\n",
    "        self.hid_to_logits = nn.Linear(rnn_num_units, num_tokens)\n",
    "        \n",
    "    def forward(self, x, state):\n",
    "        #assert isinstance(x.data, torch.LongTensor)\n",
    "        out, state = self.rnn(self.emb(x), state)\n",
    "        next_logits = self.hid_to_logits(out)\n",
    "        next_logp = F.log_softmax(next_logits, dim=-1)\n",
    "        return next_logp, state\n",
    "    \n",
    "    def initial_state(self, batch_size):\n",
    "        return (torch.zeros(batch_size, self.num_units, requires_grad=True)[None, :, :].to(device),\n",
    "                torch.zeros(batch_size, self.num_units, requires_grad=True)[None, :, :].to(device)\n",
    "               )"
   ]
  },
  {
   "cell_type": "code",
   "execution_count": 27,
   "metadata": {},
   "outputs": [],
   "source": [
    "model = CharRNNLoop().to(device)\n",
    "opt = torch.optim.Adam(model.parameters())\n",
    "criterion = nn.NLLLoss().to(device)\n",
    "history = []"
   ]
  },
  {
   "cell_type": "code",
   "execution_count": 37,
   "metadata": {},
   "outputs": [
    {
     "data": {
      "text/plain": [
       "array([[ 1,  1, 19, ...,  1,  1,  1],\n",
       "       [ 1,  1, 14, ...,  1,  1,  1],\n",
       "       [ 1,  1, 20, ...,  1,  1,  1],\n",
       "       ...,\n",
       "       [ 1,  1, 30, ...,  1,  1,  1],\n",
       "       [ 1,  1, 31, ...,  1,  1,  1],\n",
       "       [ 1,  1, 31, ...,  1,  1,  1]])"
      ]
     },
     "execution_count": 37,
     "metadata": {},
     "output_type": "execute_result"
    }
   ],
   "source": [
    "batch = to_matrix(sample(parts, 32))\n",
    "batch"
   ]
  },
  {
   "cell_type": "code",
   "execution_count": 38,
   "metadata": {},
   "outputs": [
    {
     "data": {
      "text/plain": [
       "array([[' ', ' ', 'h', ..., ' ', ' ', ' '],\n",
       "       [' ', ' ', 'c', ..., ' ', ' ', ' '],\n",
       "       [' ', ' ', 'i', ..., ' ', ' ', ' '],\n",
       "       ...,\n",
       "       [' ', ' ', 's', ..., ' ', ' ', ' '],\n",
       "       [' ', ' ', 't', ..., ' ', ' ', ' '],\n",
       "       [' ', ' ', 't', ..., ' ', ' ', ' ']], dtype='<U1')"
      ]
     },
     "execution_count": 38,
     "metadata": {},
     "output_type": "execute_result"
    }
   ],
   "source": [
    "decoded = np.array([np.array([id_to_token[idx] for idx in line]) for line in batch])\n",
    "decoded"
   ]
  },
  {
   "cell_type": "code",
   "execution_count": 48,
   "metadata": {},
   "outputs": [
    {
     "data": {
      "image/png": "[encoded data removed]",
      "text/plain": [
       "<Figure size 432x288 with 1 Axes>"
      ]
     },
     "metadata": {
      "needs_background": "light"
     },
     "output_type": "display_data"
    }
   ],
   "source": [
    "# Your plot code here\n",
    "i_range = tqdm(range(1000))\n",
    "model.train()\n",
    "for i in i_range:\n",
    "\n",
    "    opt.zero_grad()\n",
    "    batch = to_matrix(sample(parts, 32))\n",
    "    batch = torch.tensor(batch, dtype=torch.int64).to(device)\n",
    "    \n",
    "    state = model.initial_state(32)\n",
    "    \n",
    "    logp_seq, state = model(batch, state)\n",
    "    \n",
    "    # compute loss\n",
    "    predictions_logp = logp_seq[:, :-1].to(device)\n",
    "    actual_next_tokens = batch[:, 1:].to(device)\n",
    "    \n",
    "    loss = criterion(predictions_logp.contiguous().view(-1, num_tokens), \n",
    "                     actual_next_tokens.contiguous().view(-1))\n",
    "    loss.backward()\n",
    "    opt.step()\n",
    "    \n",
    "    history.append(loss.item())\n",
    "    if (i+1)%100==0:\n",
    "        clear_output(True)\n",
    "        i_range.display()\n",
    "        plt.plot(history,label='loss')\n",
    "        plt.legend()\n",
    "        plt.show()"
   ]
  },
  {
   "cell_type": "code",
   "execution_count": 54,
   "metadata": {},
   "outputs": [],
   "source": [
    "def generate_sample(char_rnn, seed_phrase=' ', max_length=MAX_LENGTH, temperature=1.0):\n",
    "    char_rnn.eval()\n",
    "    \n",
    "    x_sequence = [token_to_id[token] for token in seed_phrase.lower()]\n",
    "    x_sequence = torch.tensor([x_sequence], dtype=torch.int64).to(device)\n",
    "    \n",
    "    zero_state = char_rnn.initial_state(batch_size=1)\n",
    "    \n",
    "    _, state = char_rnn(x_sequence, zero_state)\n",
    "    \n",
    "    #start generating\n",
    "    for _ in range(max_length - len(seed_phrase)):\n",
    "        \n",
    "        logp_next, state = char_rnn(x_sequence[:, None, -1], state)\n",
    "        # Be really careful here with the model output\n",
    "        p_next = F.softmax(logp_next / temperature, dim=-1).data.to('cpu').numpy()[0]\n",
    "        \n",
    "        # sample next token and push it back into x_sequence\n",
    "        next_ix = np.random.choice(len(tokens), p=p_next[0])\n",
    "        next_ix = torch.tensor([[next_ix]], dtype=torch.int64).to(device)\n",
    "        x_sequence = torch.cat([x_sequence, next_ix], dim=1)\n",
    "        \n",
    "    return ''.join([tokens[ix] for ix in x_sequence.data.to('cpu').numpy()[0]])"
   ]
  },
  {
   "cell_type": "code",
   "execution_count": 30,
   "metadata": {},
   "outputs": [
    {
     "name": "stdout",
     "output_type": "stream",
     "text": [
      "model loaded from ./Lab2_LSTM/trained_model_2k.pth\n"
     ]
    }
   ],
   "source": [
    "load_checkpoint('./Lab2_LSTM/trained_model_2k.pth', model, opt)"
   ]
  },
  {
   "cell_type": "code",
   "execution_count": 33,
   "metadata": {},
   "outputs": [
    {
     "name": "stdout",
     "output_type": "stream",
     "text": [
      " today is a good day some;\n",
      "  so; more the demeamsed grace ad allomect\n",
      "  from smipt say you hado'd to their ehen,\n",
      "  to that hear first youl own write doth hein.                                                                                                                                                                                                                                                                                                                                                     \n"
     ]
    }
   ],
   "source": [
    "for _ in range(1):\n",
    "    print(generate_sample(model, ' Today is a good day ', temperature=1, max_length=500))"
   ]
  },
  {
   "cell_type": "markdown",
   "metadata": {},
   "source": [
    "Generate text using the trained net with different `temperature` parameter: `[0.1, 0.2, 0.5, 1.0, 2.0]`.\n",
    "\n",
    "Evaluate the results visually, try to interpret them."
   ]
  },
  {
   "cell_type": "code",
   "execution_count": 34,
   "metadata": {},
   "outputs": [
    {
     "name": "stdout",
     "output_type": "stream",
     "text": [
      "Temprature 0.1\n",
      " when i should a madly mesire lengh so cross,\n",
      "  in against thou wilt be rich dost have praise,\n",
      "  he absence seem love to the grows.                                                                                                                                                                                                                                                                                                                                                                                 \n",
      "Temprature 0.2\n",
      " those praise all his doth do not thy show,\n",
      "    they look in old, thou be doth that youth,\n",
      "    that i say me to be not but single to chess:\n",
      "  every sake to thee, and thee rich sins of you,\n",
      "  the owness summ were both makes this will him grow;\n",
      "    that i have seen the world wist all they with me:\n",
      "    then in me such men with should that i do change.'  see!\n",
      "    when thoughts of seeming to show me which in my golow,\n",
      "  the canst thou then, and come and what is so brong,\n",
      "  make anthung time's chore t\n",
      "Temprature 0.5\n",
      " when to the wint the true wide world of morn,\n",
      "  when in doth precious precious did cannence:\n",
      "  then care that is fair where thou mayst beauted,\n",
      "  and seem'd the lips to this show it past?\n",
      "  if thou thyself arvest acceing best,\n",
      "  that thou be cannot bear to respect:\n",
      "    if to love thee to my breath me, to now,\n",
      "  so is the breath after a gildain birl;\n",
      "  see in mine own worthfully alied to say,\n",
      "  '   un in me thinken thee in is with hearthes rich,\n",
      "    bysov'd, and their gazced with precious time,\n",
      "\n",
      "Temprature 1.0\n",
      " or have which beauty all you mast respect:\n",
      "  or, other stake altay, nor rubling tombana,\n",
      "  to mate of you, mine eye all this accupete:\n",
      "  but when to his someter call to defence\n",
      "  than your vird andomen's succ move i love.\n",
      "    they be thy loge,--whe spiling shake hath beauty's,\n",
      "  or be desside, whereon the pleasure perfit?\n",
      "  nor loting thought i love thee are my days,\n",
      "  mustan likes himpor's find in thee pleasion:.\n",
      "    what the contrain, or well of durgly conde,\n",
      "  singer work confess in tire's f\n",
      "Temprature 2.0\n",
      " nougeth my viedst mythcl that too know\n",
      "    sey 'twill gurfum thee;  eye's you aprol nees frallswy ap.\n",
      "    'his hexier meberth, unquil: i so fault.\n",
      "   in thy min's ano quice of bus hate.                                                                                        t                   t m                                                          f                                                                                                                           w         t          \n"
     ]
    }
   ],
   "source": [
    "# Text generation with different temperature values here\n",
    "for temp in [0.1, 0.2, 0.5, 1.0, 2.0]:\n",
    "    print(f'Temprature {temp}')\n",
    "    print(generate_sample(model, ' ', temperature=temp, max_length=500))"
   ]
  },
  {
   "cell_type": "markdown",
   "metadata": {},
   "source": [
    "### Saving and loading models"
   ]
  },
  {
   "cell_type": "markdown",
   "metadata": {},
   "source": [
    "Save the model to the disk, then load it and generate text. Examples are available [here](https://pytorch.org/tutorials/beginner/saving_loading_models.html])."
   ]
  },
  {
   "cell_type": "code",
   "execution_count": 4,
   "metadata": {},
   "outputs": [],
   "source": [
    "def save_checkpoint(checkpoint_path, model, optimizer):\n",
    "    # state_dict: a Python dictionary object that:\n",
    "    # - for a model, maps each layer to its parameter tensor;\n",
    "    # - for an optimizer, contains info about the optimizer’s states and hyperparameters used.\n",
    "    state = {\n",
    "        'state_dict': model.state_dict(),\n",
    "        'optimizer' : optimizer.state_dict()}\n",
    "    torch.save(state, checkpoint_path)\n",
    "    print('model saved to %s' % checkpoint_path)\n",
    "    \n",
    "def load_checkpoint(checkpoint_path, model, optimizer):\n",
    "    state = torch.load(checkpoint_path)\n",
    "    model.load_state_dict(state['state_dict'])\n",
    "    optimizer.load_state_dict(state['optimizer'])\n",
    "    print('model loaded from %s' % checkpoint_path)"
   ]
  },
  {
   "cell_type": "code",
   "execution_count": 72,
   "metadata": {},
   "outputs": [
    {
     "name": "stdout",
     "output_type": "stream",
     "text": [
      "model saved to ./Lab2_LSTM/trained_model_2k.pth\n"
     ]
    }
   ],
   "source": [
    "save_checkpoint('./Lab2_LSTM/trained_model_2k.pth', model, opt)"
   ]
  },
  {
   "cell_type": "markdown",
   "metadata": {},
   "source": [
    "### Deal with Onegin"
   ]
  },
  {
   "cell_type": "code",
   "execution_count": 25,
   "metadata": {},
   "outputs": [],
   "source": [
    "if not os.path.exists('onegin.txt'):\n",
    "    !wget --no-check-certificate https://raw.githubusercontent.com/attatrol/data_sources/master/onegin.txt\n",
    "    \n",
    "with open('onegin.txt', 'r', encoding='utf-8') as iofile:\n",
    "    text = iofile.readlines()\n",
    "        \n",
    "text = [x.replace('\\t\\t', '') for x in text]"
   ]
  },
  {
   "cell_type": "code",
   "execution_count": 26,
   "metadata": {},
   "outputs": [
    {
     "data": {
      "text/plain": [
       "7088"
      ]
     },
     "execution_count": 26,
     "metadata": {},
     "output_type": "execute_result"
    }
   ],
   "source": [
    "len(text)"
   ]
  },
  {
   "cell_type": "code",
   "execution_count": 27,
   "metadata": {},
   "outputs": [],
   "source": [
    "text = [line.lower() for line in text]\n",
    "text = ''.join(text)"
   ]
  },
  {
   "cell_type": "code",
   "execution_count": 28,
   "metadata": {},
   "outputs": [],
   "source": [
    "import re\n",
    "ru_parts = re.split('\\n[i-m]*\\n\\n\\s*.*\\s*\\n\\n', f'{text}')"
   ]
  },
  {
   "cell_type": "code",
   "execution_count": 29,
   "metadata": {},
   "outputs": [],
   "source": [
    "ru_parts[0] = ru_parts[0][4:]"
   ]
  },
  {
   "cell_type": "code",
   "execution_count": 30,
   "metadata": {},
   "outputs": [
    {
     "data": {
      "text/plain": [
       "'«мой дядя самых честных правил,\\nкогда не в шутку занемог,\\nон уважать себя заставил\\nи лучше выдумать не мог.\\nего пример другим наука;\\nно, боже мой, какая скука\\nс больным сидеть и день и ночь,\\nне отходя ни шагу прочь!\\nкакое низкое коварство\\nполуживого забавлять,\\nему подушки поправлять,\\nпечально подносить лекарство,\\nвздыхать и думать про себя:\\nкогда же черт возьмет тебя!»'"
      ]
     },
     "execution_count": 30,
     "metadata": {},
     "output_type": "execute_result"
    }
   ],
   "source": [
    "ru_parts[0]"
   ]
  },
  {
   "cell_type": "code",
   "execution_count": 31,
   "metadata": {},
   "outputs": [],
   "source": [
    "for i in range(len(ru_parts)):\n",
    "    ru_parts[i] = ' '+ru_parts[i]"
   ]
  },
  {
   "cell_type": "code",
   "execution_count": 32,
   "metadata": {},
   "outputs": [
    {
     "name": "stdout",
     "output_type": "stream",
     "text": [
      "max length = 2082\n"
     ]
    },
    {
     "data": {
      "image/png": "[encoded data removed]",
      "text/plain": [
       "<Figure size 432x288 with 1 Axes>"
      ]
     },
     "metadata": {
      "needs_background": "light"
     },
     "output_type": "display_data"
    }
   ],
   "source": [
    "MAX_LENGTH = max(map(len, ru_parts))\n",
    "print(\"max length =\", MAX_LENGTH)\n",
    "\n",
    "plt.title(\"Sequence lenght distribution\")\n",
    "plt.hist(list(map(len, ru_parts)), bins=20);"
   ]
  },
  {
   "cell_type": "markdown",
   "metadata": {},
   "source": [
    "Есть много предложений длина которыз превышает основные"
   ]
  },
  {
   "cell_type": "code",
   "execution_count": 33,
   "metadata": {},
   "outputs": [],
   "source": [
    "tmp = []\n",
    "for i in range(0, len(ru_parts)):\n",
    "    if 330 < len(ru_parts[i]) < 420:\n",
    "        tmp.append(ru_parts[i])\n",
    "\n",
    "ru_parts = tmp  "
   ]
  },
  {
   "cell_type": "code",
   "execution_count": 34,
   "metadata": {},
   "outputs": [
    {
     "name": "stdout",
     "output_type": "stream",
     "text": [
      "max length = 419\n"
     ]
    },
    {
     "data": {
      "image/png": "[encoded data removed]",
      "text/plain": [
       "<Figure size 432x288 with 1 Axes>"
      ]
     },
     "metadata": {
      "needs_background": "light"
     },
     "output_type": "display_data"
    }
   ],
   "source": [
    "MAX_LENGTH = max(map(len, ru_parts))\n",
    "print(\"max length =\", MAX_LENGTH)\n",
    "\n",
    "plt.title(\"Sequence lenght distribution\")\n",
    "plt.hist(list(map(len, ru_parts)), bins=20);"
   ]
  },
  {
   "cell_type": "code",
   "execution_count": 35,
   "metadata": {},
   "outputs": [
    {
     "data": {
      "text/plain": [
       "360"
      ]
     },
     "execution_count": 35,
     "metadata": {},
     "output_type": "execute_result"
    }
   ],
   "source": [
    "len(ru_parts)"
   ]
  },
  {
   "cell_type": "code",
   "execution_count": 36,
   "metadata": {},
   "outputs": [],
   "source": [
    "tokens = set()\n",
    "\n",
    "for name in ru_parts:\n",
    "    tokens.update(set(name))\n",
    "\n",
    "tokens = list(tokens)\n",
    "\n",
    "num_tokens = len(tokens)"
   ]
  },
  {
   "cell_type": "code",
   "execution_count": 37,
   "metadata": {},
   "outputs": [
    {
     "data": {
      "text/plain": [
       "80"
      ]
     },
     "execution_count": 37,
     "metadata": {},
     "output_type": "execute_result"
    }
   ],
   "source": [
    "num_tokens"
   ]
  },
  {
   "cell_type": "code",
   "execution_count": 38,
   "metadata": {},
   "outputs": [],
   "source": [
    "token_to_id = {char: index for index, char in enumerate(tokens)}\n",
    "id_to_token = {index: char for index, char in enumerate(tokens)}\n",
    "num_tokens = len(tokens)"
   ]
  },
  {
   "cell_type": "code",
   "execution_count": 39,
   "metadata": {},
   "outputs": [],
   "source": [
    "def to_matrix(parts, max_len=None, pad=token_to_id[' '], dtype='int32', batch_first = True):\n",
    "    \n",
    "    max_len = max_len or max(map(len, parts))\n",
    "    parts_ix = np.zeros([len(parts), max_len], dtype) + pad\n",
    "    \n",
    "    for i in range(len(parts)):\n",
    "        line_ix = [token_to_id[c] for c in parts[i]]  # строка - часть\n",
    "        parts_ix[i, :len(line_ix)] = line_ix  # вставка в матрицу\n",
    "        \n",
    "    if not batch_first:  # convert [batch, time] into [time, batch]\n",
    "        parts_ix = np.transpose(names_ix)\n",
    "    \n",
    "    return parts_ix"
   ]
  },
  {
   "cell_type": "code",
   "execution_count": 40,
   "metadata": {},
   "outputs": [
    {
     "name": "stdout",
     "output_type": "stream",
     "text": [
      "[[17 16  4 ... 17 17 17]\n",
      " [17  1 58 ... 17 17 17]\n",
      " [17 39 37 ... 17 17 17]\n",
      " [17 46 44 ... 17 17 17]\n",
      " [17  4 18 ...  4  4 41]] (5, 376)\n"
     ]
    }
   ],
   "source": [
    "batch = to_matrix(ru_parts[:5])\n",
    "print(batch, batch.shape)"
   ]
  },
  {
   "cell_type": "code",
   "execution_count": 42,
   "metadata": {},
   "outputs": [
    {
     "data": {
      "text/plain": [
       "(79, 0)"
      ]
     },
     "execution_count": 42,
     "metadata": {},
     "output_type": "execute_result"
    }
   ],
   "source": [
    "batch.max(), batch.min()  # because 80 tokens in total"
   ]
  },
  {
   "cell_type": "code",
   "execution_count": 45,
   "metadata": {},
   "outputs": [],
   "source": [
    "class CharRNNLoop(nn.Module):\n",
    "    def __init__(self, num_tokens=len(tokens), emb_size=64, rnn_num_units=256):\n",
    "        super(self.__class__, self).__init__()\n",
    "        self.num_units=rnn_num_units\n",
    "        \n",
    "        self.emb = nn.Embedding(num_tokens, emb_size)\n",
    "        self.rnn = nn.LSTM(emb_size, rnn_num_units, num_layers=2, batch_first=True)\n",
    "        self.hid_to_logits = nn.Linear(rnn_num_units, 128)\n",
    "        self.lin = nn.Linear(128, num_tokens)\n",
    "        \n",
    "    def forward(self, x, state):\n",
    "        #assert isinstance(x.data, torch.LongTensor)\n",
    "        out, state = self.rnn(self.emb(x), state)\n",
    "        pre_logits = self.hid_to_logits(out)\n",
    "        pre_logits = nn.ReLU()(pre_logits)\n",
    "        next_logits = self.lin(pre_logits)\n",
    "        next_logp = F.log_softmax(next_logits, dim=-1)\n",
    "        return next_logp, state\n",
    "    \n",
    "    def initial_state(self, batch_size):\n",
    "        return (torch.zeros(2, batch_size, self.num_units, requires_grad=True).to(device),\n",
    "                torch.zeros(2, batch_size, self.num_units, requires_grad=True).to(device)\n",
    "               )"
   ]
  },
  {
   "cell_type": "code",
   "execution_count": 46,
   "metadata": {},
   "outputs": [],
   "source": [
    "model = CharRNNLoop().to(device)\n",
    "opt = torch.optim.Adam(model.parameters())\n",
    "criterion = nn.NLLLoss().to(device)\n",
    "history = []"
   ]
  },
  {
   "cell_type": "code",
   "execution_count": 83,
   "metadata": {},
   "outputs": [
    {
     "data": {
      "image/png": "[encoded data removed]",
      "text/plain": [
       "<Figure size 432x288 with 1 Axes>"
      ]
     },
     "metadata": {
      "needs_background": "light"
     },
     "output_type": "display_data"
    }
   ],
   "source": [
    "# Your plot code here\n",
    "i_range = tqdm(range(1000))\n",
    "model.train()\n",
    "for i in i_range:\n",
    "\n",
    "    opt.zero_grad()\n",
    "    batch = to_matrix(sample(ru_parts, 32))\n",
    "    batch = torch.tensor(batch, dtype=torch.int64).to(device)\n",
    "    \n",
    "    state = model.initial_state(32)\n",
    "    \n",
    "    logp_seq, state = model(batch, state)\n",
    "    \n",
    "    # compute loss\n",
    "    predictions_logp = logp_seq[:, :-1].to(device)\n",
    "    actual_next_tokens = batch[:, 1:].to(device)\n",
    "    \n",
    "    loss = criterion(predictions_logp.contiguous().view(-1, num_tokens), \n",
    "                     actual_next_tokens.contiguous().view(-1))\n",
    "    loss.backward()\n",
    "    opt.step()\n",
    "    \n",
    "    history.append(loss.item())\n",
    "    if (i+1)%100==0:\n",
    "        clear_output(True)\n",
    "        i_range.display()\n",
    "        plt.plot(history,label='loss')\n",
    "        plt.legend()\n",
    "        plt.show()"
   ]
  },
  {
   "cell_type": "code",
   "execution_count": 84,
   "metadata": {},
   "outputs": [
    {
     "name": "stdout",
     "output_type": "stream",
     "text": [
      "model saved to ./Lab2_LSTM/trained_ru_model_with_non_linear.pth\n"
     ]
    }
   ],
   "source": [
    "save_checkpoint('./Lab2_LSTM/trained_ru_model_with_non_linear.pth', model, opt)"
   ]
  },
  {
   "cell_type": "code",
   "execution_count": 86,
   "metadata": {},
   "outputs": [
    {
     "data": {
      "text/plain": [
       "0.032282343879342076"
      ]
     },
     "execution_count": 86,
     "metadata": {},
     "output_type": "execute_result"
    }
   ],
   "source": [
    "np.mean(history[-10:])"
   ]
  },
  {
   "cell_type": "code",
   "execution_count": 87,
   "metadata": {},
   "outputs": [],
   "source": [
    "assert np.mean(history[:10]) > np.mean(history[-10:]), \"RNN didn't converge.\""
   ]
  },
  {
   "cell_type": "code",
   "execution_count": 112,
   "metadata": {},
   "outputs": [
    {
     "name": "stdout",
     "output_type": "stream",
     "text": [
      " шагане ветрена встреча;\n",
      "он сынчет утренней прихоле;\n",
      "но то, бурный едва его,\n",
      "утих, завет, на злочтовенно,\n",
      "нашх усощащесей рифмащий\n",
      "угодит на суд; т был зовут:\n",
      "счавил эта осушлима;\n",
      "толсты цветы отрекных махмом,\n",
      "хранил… к как велиных общед!                                                                                                                                                                                                                                                                      \n"
     ]
    }
   ],
   "source": [
    "for _ in range(1):\n",
    "    print(generate_sample(model, ' шагане', temperature=1.5, max_length=500))"
   ]
  },
  {
   "cell_type": "markdown",
   "metadata": {},
   "source": [
    "### References\n",
    "1. <a href='http://karpathy.github.io/2015/05/21/rnn-effectiveness/'> Andrew Karpathy blog post about RNN. </a> \n",
    "There are several examples of genration: Shakespeare texts, Latex formulas, Linux Sourse Code and children names.\n",
    "2. <a href='https://github.com/karpathy/char-rnn'> Repo with char-rnn code </a>\n",
    "3. Cool repo with PyTorch examples: [link](https://github.com/spro/practical-pytorch`)"
   ]
  }
 ],
 "metadata": {
  "anaconda-cloud": {},
  "kernelspec": {
   "display_name": "Python 3",
   "language": "python",
   "name": "python3"
  },
  "language_info": {
   "codemirror_mode": {
    "name": "ipython",
    "version": 3
   },
   "file_extension": ".py",
   "mimetype": "text/x-python",
   "name": "python",
   "nbconvert_exporter": "python",
   "pygments_lexer": "ipython3",
   "version": "3.8.5"
  }
 },
 "nbformat": 4,
 "nbformat_minor": 2
}
